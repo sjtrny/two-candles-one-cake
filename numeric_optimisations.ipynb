{
 "cells": [
  {
   "cell_type": "markdown",
   "id": "cbdd5ad0",
   "metadata": {},
   "source": [
    "# Optimised Numeric Integration\n",
    "\n",
    "## Reference Implementation\n",
    "\n",
    "This is intended to be a clear and easy to read implementation."
   ]
  },
  {
   "cell_type": "code",
   "execution_count": 1,
   "id": "1323f9b5",
   "metadata": {},
   "outputs": [
    {
     "name": "stdout",
     "output_type": "stream",
     "text": [
      "Probability: 0.3333333333333333\n",
      "Calculated in 0.0693 seconds\n"
     ]
    }
   ],
   "source": [
    "import numpy as np\n",
    "from scipy.integrate import dblquad\n",
    "from scipy.stats import trapezoid, triang\n",
    "import time\n",
    "\n",
    "# Used for tighter inner integral bounds\n",
    "def x_lower(y):\n",
    "    # Support of K\n",
    "    k_range = [np.maximum(y, 0), np.minimum(1, 1+y)]\n",
    "\n",
    "    # Support of C1\n",
    "    c1_range = [0, 1]\n",
    "\n",
    "    # Conventional trapezoid parameters\n",
    "    a = c1_range[0] - k_range[1]\n",
    "    \n",
    "    return a\n",
    "\n",
    "def x_upper(y):\n",
    "    # Support of K\n",
    "    k_range = [np.maximum(y, 0), np.minimum(1, 1+y)]\n",
    "\n",
    "    # Support of C1\n",
    "    c1_range = [0, 1]\n",
    "\n",
    "    # Conventional trapezoid parameters\n",
    "    d = c1_range[1] - k_range[0]\n",
    "    \n",
    "    return np.minimum(d, 0)\n",
    "\n",
    "def f(y, x):\n",
    "    # Y marginal\n",
    "    y_density = triang.pdf(y, loc=-1, scale=2, c=0.5)\n",
    "\n",
    "    # Support of K\n",
    "    k_range = [np.maximum(y, 0), np.minimum(1, 1+y)]\n",
    "\n",
    "    # Support of C1\n",
    "    c1_range = [0, 1]\n",
    "\n",
    "    # Conventional trapezoid parameters\n",
    "    a = c1_range[0] - k_range[1]\n",
    "    b = c1_range[0] - k_range[0]\n",
    "    c = c1_range[1] - k_range[1]\n",
    "    d = c1_range[1] - k_range[0]\n",
    "\n",
    "    # Scipy trapezoid parameters\n",
    "    loc = a\n",
    "    scale = d-a\n",
    "    c1 = (b-a) / scale\n",
    "    d1 = (c-a) / scale\n",
    "\n",
    "    # X conditional probability density\n",
    "    x_density = trapezoid.pdf(x,c=c1, d=d1,loc=loc, scale=scale)\n",
    "\n",
    "    return y_density*x_density\n",
    "\n",
    "s = time.time()\n",
    "p = dblquad(f, a=-1, b=0, gfun=x_lower, hfun=x_upper)[0]\n",
    "print(f\"Probability: {p*2}\")\n",
    "print(f\"Calculated in {time.time()-s:.4f} seconds\")"
   ]
  },
  {
   "cell_type": "markdown",
   "id": "564357f2",
   "metadata": {},
   "source": [
    "## Optimised Python Implementation\n",
    "\n",
    "Using scipy's stats classes are quite slow, this version constructs PDF for the distributions manually."
   ]
  },
  {
   "cell_type": "code",
   "execution_count": 2,
   "id": "21ecd3a3",
   "metadata": {},
   "outputs": [
    {
     "name": "stdout",
     "output_type": "stream",
     "text": [
      "Probability: 0.3333333333333333\n",
      "Calculated in 0.0003 seconds\n"
     ]
    }
   ],
   "source": [
    "from scipy.integrate import dblquad\n",
    "import time\n",
    "from math import fabs\n",
    "s = time.time()\n",
    "\n",
    "def x_lower(y):\n",
    "    return 0 - (1+y if y<0 else 1)\n",
    "\n",
    "def x_upper(y):\n",
    "    d = 1 - (y if y>0 else 0)\n",
    "    return 0 if d>0 else d\n",
    "\n",
    "def f(y, x):\n",
    "    # Y marginal\n",
    "    y_density = -fabs(y) + 1\n",
    "\n",
    "    # Support of K\n",
    "    k_range0 = y if y>0 else 0\n",
    "    k_range1 = 1+y if y<0 else 1\n",
    "\n",
    "    # Conventional trapezoid parameters\n",
    "    a = -k_range1\n",
    "    b = -k_range0\n",
    "    c = 1 - k_range1\n",
    "    d = 1 - k_range0\n",
    "\n",
    "    # X conditional probability density\n",
    "    x_density = (2/(d+c-a-b))\n",
    "    \n",
    "    if x < b:\n",
    "        x_density = x_density*((x-a)/(b-a))\n",
    "        x_density = x_density if x_density>0 else 0\n",
    "    elif x > c:\n",
    "        x_density = x_density*((d-x)/(d-c))\n",
    "        x_density = x_density if x_density>0 else 0\n",
    "    \n",
    "    return y_density*x_density\n",
    "\n",
    "tol = 1e-06 # Increase for even faster results\n",
    "st = time.time()\n",
    "p = dblquad(f, a=-1, b=0, gfun=x_lower, hfun=x_upper)[0]\n",
    "en = time.time()\n",
    "print(f\"Probability: {p*2}\")\n",
    "print(f\"Calculated in {en-st:.4f} seconds\")"
   ]
  },
  {
   "cell_type": "markdown",
   "id": "925361b0",
   "metadata": {},
   "source": [
    "## Optimised Cython Implementation\n",
    "\n",
    "For fun I tried to squeeze even more performance by writing a compiled implementation."
   ]
  },
  {
   "cell_type": "code",
   "execution_count": 3,
   "id": "c310d36a",
   "metadata": {},
   "outputs": [],
   "source": [
    "%load_ext cython"
   ]
  },
  {
   "cell_type": "code",
   "execution_count": 4,
   "id": "2c212363",
   "metadata": {
    "scrolled": true
   },
   "outputs": [
    {
     "name": "stdout",
     "output_type": "stream",
     "text": [
      "Probability: 0.3333333333333333\n",
      "Calculated in 0.0001 seconds\n"
     ]
    }
   ],
   "source": [
    "%%cython\n",
    "from scipy.integrate import dblquad\n",
    "from libc.math cimport abs\n",
    "import cython\n",
    "import time\n",
    "import numpy as np\n",
    "\n",
    "def x_lower(y):\n",
    "    return 0 - (1+y if y<0 else 1)\n",
    "\n",
    "def x_upper(y):\n",
    "    d = 1 - (y if y>0 else 0)\n",
    "    return 0 if d>0 else d\n",
    "\n",
    "@cython.cdivision(True)\n",
    "def f(y: cython.double, x: cython.double):\n",
    "    # Y marginal\n",
    "    cdef double y_density = -abs(y) + 1\n",
    "\n",
    "    # Support of K\n",
    "    cdef double k_range0 = y if y>0 else 0.0\n",
    "    cdef double k_range1 = 1+y if y<0 else 1.0\n",
    "\n",
    "    # Conventional trapezoid parameters\n",
    "    cdef double a = 0.0 - k_range1\n",
    "    cdef double b = 0.0 - k_range0\n",
    "    cdef double c = 1.0 - k_range1\n",
    "    cdef double d = 1.0 - k_range0\n",
    "\n",
    "    # X conditional probability density\n",
    "    cdef double x_density = (2.0/(d+c-a-b))\n",
    "    \n",
    "    if x < b:\n",
    "        x_density = x_density*((x-a)/(b-a))\n",
    "        x_density = x_density if x_density>0 else 0.0\n",
    "    elif x > c:\n",
    "        x_density = x_density*((d-x)/(d-c))\n",
    "        x_density = x_density if x_density>0 else 0.0\n",
    "    \n",
    "    return y_density*x_density\n",
    "\n",
    "tol = 1e-06 # Increase for even faster results\n",
    "st = time.time()\n",
    "p = dblquad(f, a=-1, b=0, gfun=x_lower, hfun=x_upper)[0]\n",
    "en = time.time()\n",
    "print(f\"Probability: {p*2}\")\n",
    "print(f\"Calculated in {en-st:.4f} seconds\")"
   ]
  }
 ],
 "metadata": {
  "kernelspec": {
   "display_name": "Python 3 (ipykernel)",
   "language": "python",
   "name": "python3"
  },
  "language_info": {
   "codemirror_mode": {
    "name": "ipython",
    "version": 3
   },
   "file_extension": ".py",
   "mimetype": "text/x-python",
   "name": "python",
   "nbconvert_exporter": "python",
   "pygments_lexer": "ipython3",
   "version": "3.9.12"
  }
 },
 "nbformat": 4,
 "nbformat_minor": 5
}
