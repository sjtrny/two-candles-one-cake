{
 "cells": [
  {
   "cell_type": "markdown",
   "metadata": {},
   "source": [
    "# Problem\n",
    "\n",
    "Given a rectangular and unit length cake, suppose that:\n",
    "* two candles are placed uniform at random along the length\n",
    "* a knife cuts the cake at a uniform random position along the length\n",
    "\n",
    "**What is the probability that the knife cuts between the two candles?**\n",
    "\n",
    "## Problem History\n",
    "\n",
    "I originally saw this problem presented by Ben Sparks on Numberphile https://www.youtube.com/watch?v=FkVe8qrT0LA. \n",
    "\n",
    "This problems seems to have been around before hand though as I found it on New Scientist https://www.newscientist.com/article/mg24232361-100-puzzle-09-the-cake-and-the-candles/"
   ]
  },
  {
   "cell_type": "markdown",
   "metadata": {},
   "source": [
    "# Simulation"
   ]
  },
  {
   "cell_type": "code",
   "execution_count": 1,
   "metadata": {},
   "outputs": [
    {
     "data": {
      "text/plain": [
       "0.333139"
      ]
     },
     "execution_count": 1,
     "metadata": {},
     "output_type": "execute_result"
    }
   ],
   "source": [
    "from scipy.stats import uniform\n",
    "import numpy as np\n",
    "\n",
    "n_rvs = 1000000\n",
    "rvs_c1 = uniform.rvs(size=n_rvs)\n",
    "rvs_c2 = uniform.rvs(size=n_rvs)\n",
    "rvs_ck = uniform.rvs(size=n_rvs)\n",
    "\n",
    "way1 = (rvs_c1 < rvs_ck) & (rvs_c2 > rvs_ck)\n",
    "way2 = (rvs_c1 > rvs_ck) & (rvs_c2 < rvs_ck)\n",
    "\n",
    "total = way1 | way2\n",
    "np.sum(total)/n_rvs"
   ]
  },
  {
   "cell_type": "markdown",
   "metadata": {},
   "source": [
    "# Analytic Solution\n",
    "\n",
    "## Problem Statement\n",
    "\n",
    "Let:\n",
    "- $C_1$, $C_2 \\sim U(0,1)$ be the candle positions\n",
    "- $K \\sim U(0,1)$ be the knife position\n",
    "\n",
    "Let the probability that the knife cuts between the two cuts be\n",
    "$$P(C_{1,2}<K<C_{1,2}) = P(C_1 < K < C_2) + P(C_2 < K < C_1)$$\n",
    "\n",
    "Since these variables are uniform random we know that \n",
    "$$P(C_1 < K < C_2) = P(C_2 < K < C_1).$$\n",
    "\n",
    "Therefore we only need to derive an equation for one side and\n",
    "$$P(C_{1,2}<K<C_{1,2}) = 2 \\cdot P(C_1 < K < C_2).$$\n",
    "\n",
    "We can further decompose as\n",
    "\n",
    "$$P(C_1 < K < C_2) = P(C_1 - K < 0\\ \\mathrm{and}\\ C_2 - K > 0).$$\n",
    "\n",
    "## Objective Part 1\n",
    "\n",
    "Let $X=C_1 - K$ and $Y=C_2 - K$ then\n",
    "\n",
    "$$P(C_1 < K < C_2) = P(X < 0\\ \\mathrm{and}\\ Y > 0)$$\n",
    "\n",
    "The difference of two standard uniform random variables is Triangular distributed i.e.\n",
    "\n",
    "$$C_1 - K \\sim \\text{Triangular}(-1, 0, 1)$$\n",
    "\n",
    "Alternatively defining $Y=K - C_2$ then \n",
    "\n",
    "$$P(C_1 < K < C_2) = P(X < 0\\ \\mathrm{and}\\ Y < 0)$$\n",
    "\n",
    "The joint cumulative probability is given by\n",
    "$$ P(X < 0\\ \\mathrm{and}\\ Y < 0) = P(X < 0, Y < 0) = \\int_{-1}^0 \\int_{-1}^0 f_{X,Y}(x,y) \\, dx \\, dy$$\n",
    "where $f_{X,Y}(x,y)$ is the joint density of $X$ and $Y$.\n",
    "\n",
    "## Joint Density\n",
    "\n",
    "The joint density can be decomposed into\n",
    "\n",
    "$$f_{X,Y}(x,y) = f_{Y\\mid X}(y\\mid x)f_X(x) = f_{X\\mid Y}(x\\mid y)f_Y(y)$$\n",
    "\n",
    "The marginals $f_X(x)$ and $f_Y(y)$ are given by the PDFs from the Triangular distributions for each $X$ and $Y$.\n",
    "\n",
    "The conditional probability density $f_{X\\mid Y}(x\\mid y)$ can be established through the shared variable $K$ in both $X$ and $Y$.\n",
    "\n",
    "Given a specific value $y$ for $Y$, one can establish the support of $K$, through the relation $Y = K-C_2$, which is\n",
    "\n",
    "$$K \\in [\\max(y, 0), \\min(1, 1+y)]$$\n",
    "\n",
    "i.e. $K \\sim U(\\max(y, 0), \\min(1, 1+y))$.\n",
    "\n",
    "Since no information is known about $C_1$ we assume it still follows a standard uniform distribution.\n",
    "\n",
    "The difference of two uniform variables with different supports is trapezoidal distributed. Trapezoidal distributions have four parameters: $a$, $b$, $c$, $d$; that correspond to the lower bound, first bend, second bend and upper bound respectively.\n",
    "\n",
    "Let $F \\sim U(l,m)$ and $G \\sim U(n, o)$ and $H = F-G$ then\n",
    "\n",
    "$$H\\sim \\text{Trapezoidal}(l-o,l-n,m-o,m-n)$$\n",
    "\n",
    "Therefore for a known value of $Y$ the distribution of $X$ is\n",
    "\n",
    "$$X_{Y = y} \\sim \\text{Trapezoidal}(-\\min(1, 1+y), -\\max(y, 0), 1-\\min(1, 1+y), 1-\\max(y, 0))$$\n",
    "\n",
    "and the conditional probability density $f_{X\\mid Y}$ can be drawn from this distribution.\n",
    "\n",
    "## Solution\n",
    "\n",
    "Solving the objective yields\n",
    "\n",
    "$$P(C_1 < K < C_2)=\\frac{1}{6}$$\n",
    "\n",
    "therefore\n",
    "\n",
    "$$P(C_{1,2}<K<C_{1,2}) = 2 \\cdot P(C_1 < K < C_2) = 2 \\cdot \\frac{1}{6} = \\frac{1}{3}$$"
   ]
  },
  {
   "cell_type": "markdown",
   "metadata": {},
   "source": [
    "# Reference Implementation"
   ]
  },
  {
   "cell_type": "code",
   "execution_count": 2,
   "metadata": {
    "scrolled": true
   },
   "outputs": [
    {
     "name": "stdout",
     "output_type": "stream",
     "text": [
      "Probability: 0.33333333333333337\n",
      "Calculated in 0.1640 seconds\n"
     ]
    }
   ],
   "source": [
    "import numpy as np\n",
    "from scipy.integrate import dblquad\n",
    "from scipy.stats import trapezoid, triang\n",
    "import time\n",
    "\n",
    "# Used for tighter inner integral bounds\n",
    "def x_lower(y):\n",
    "    # Support of K\n",
    "    k_range = [np.maximum(y, 0), np.minimum(1, 1+y)]\n",
    "\n",
    "    # Support of C1\n",
    "    c1_range = [0, 1]\n",
    "\n",
    "    # Conventional trapezoid parameters\n",
    "    a = c1_range[0] - k_range[1]\n",
    "    \n",
    "    return a\n",
    "\n",
    "def x_upper(y):\n",
    "    # Support of K\n",
    "    k_range = [np.maximum(y, 0), np.minimum(1, 1+y)]\n",
    "\n",
    "    # Support of C1\n",
    "    c1_range = [0, 1]\n",
    "\n",
    "    # Conventional trapezoid parameters\n",
    "    d = c1_range[1] - k_range[0]\n",
    "    \n",
    "    return np.minimum(d, 0)\n",
    "\n",
    "def f(y, x):\n",
    "    # Y marginal\n",
    "    y_density = triang.pdf(y, loc=-1, scale=2, c=0.5)\n",
    "\n",
    "    # Support of K\n",
    "    k_range = [np.maximum(y, 0), np.minimum(1, 1+y)]\n",
    "\n",
    "    # Support of C1\n",
    "    c1_range = [0, 1]\n",
    "\n",
    "    # Conventional trapezoid parameters\n",
    "    a = c1_range[0] - k_range[1]\n",
    "    b = c1_range[0] - k_range[0]\n",
    "    c = c1_range[1] - k_range[1]\n",
    "    d = c1_range[1] - k_range[0]\n",
    "\n",
    "    # Scipy trapezoid parameters\n",
    "    loc = a\n",
    "    scale = d-a\n",
    "    c1 = (b-a) / scale\n",
    "    d1 = (c-a) / scale\n",
    "\n",
    "    # X conditional probability density\n",
    "    x_density = trapezoid.pdf(x,c=c1, d=d1,loc=loc, scale=scale)\n",
    "\n",
    "    return y_density*x_density\n",
    "\n",
    "s = time.time()\n",
    "p = dblquad(f, a=-1, b=0, gfun=x_lower, hfun=x_upper)[0]\n",
    "print(f\"Probability: {p*2}\")\n",
    "print(f\"Calculated in {time.time()-s:.4f} seconds\")"
   ]
  },
  {
   "cell_type": "markdown",
   "metadata": {},
   "source": [
    "# Optimised Python Implementation"
   ]
  },
  {
   "cell_type": "code",
   "execution_count": 3,
   "metadata": {},
   "outputs": [
    {
     "name": "stdout",
     "output_type": "stream",
     "text": [
      "Probability: 0.33333333333333337\n",
      "Calculated in 0.0003 seconds\n"
     ]
    }
   ],
   "source": [
    "from scipy.integrate import dblquad\n",
    "import time\n",
    "from math import fabs\n",
    "s = time.time()\n",
    "\n",
    "def x_lower(y):\n",
    "    return 0 - (1+y if y<0 else 1)\n",
    "\n",
    "def x_upper(y):\n",
    "    d = 1 - (y if y>0 else 0)\n",
    "    return d if d>0 else 0\n",
    "\n",
    "def f(y, x):\n",
    "    # Y marginal\n",
    "    y_density = -fabs(y) + 1\n",
    "\n",
    "    # Support of K\n",
    "    k_range0 = y if y>0 else 0\n",
    "    k_range1 = 1+y if y<0 else 1\n",
    "\n",
    "    # Conventional trapezoid parameters\n",
    "    a = 0 - k_range1\n",
    "    b = 0 - k_range0\n",
    "    c = 1 - k_range1\n",
    "    d = 1 - k_range0\n",
    "\n",
    "    # X conditional probability density\n",
    "    x_density = (2/(d+c-a-b))\n",
    "    \n",
    "    if x < b:\n",
    "        x_density = x_density*((x-a)/(b-a))\n",
    "        x_density = x_density if x_density>0 else 0\n",
    "    elif x > c:\n",
    "        x_density = x_density*((d-x)/(d-c))\n",
    "        x_density = x_density if x_density>0 else 0\n",
    "    \n",
    "    return y_density*x_density\n",
    "\n",
    "tol = 1e-06 # Increase for even faster results\n",
    "st = time.time()\n",
    "p = dblquad(f, a=-1, b=0, gfun=x_lower, hfun=lambda x: 0)[0]\n",
    "en = time.time()\n",
    "print(f\"Probability: {p*2}\")\n",
    "print(f\"Calculated in {en-st:.4f} seconds\")"
   ]
  },
  {
   "cell_type": "markdown",
   "metadata": {},
   "source": [
    "# Optimised Cython Implementation"
   ]
  },
  {
   "cell_type": "code",
   "execution_count": 4,
   "metadata": {},
   "outputs": [],
   "source": [
    "%load_ext cython"
   ]
  },
  {
   "cell_type": "code",
   "execution_count": 5,
   "metadata": {},
   "outputs": [
    {
     "name": "stdout",
     "output_type": "stream",
     "text": [
      "Probability: 0.33333333333333337\n",
      "Calculated in 0.0001 seconds\n"
     ]
    }
   ],
   "source": [
    "%%cython\n",
    "from scipy.integrate import dblquad\n",
    "from libc.math cimport abs\n",
    "import cython\n",
    "import time\n",
    "import numpy as np\n",
    "\n",
    "def x_lower(y):\n",
    "    return 0 - (1+y if y<0 else 1)\n",
    "\n",
    "def x_upper(y):\n",
    "    d = 1 - (y if y>0 else 0)\n",
    "    return d if d>0 else 0\n",
    "\n",
    "@cython.cdivision(True)\n",
    "def f(y: cython.double, x: cython.double):\n",
    "    # Y marginal\n",
    "    cdef double y_density = -abs(y) + 1\n",
    "\n",
    "    # Support of K\n",
    "    cdef double k_range0 = y if y>0 else 0.0\n",
    "    cdef double k_range1 = 1+y if y<0 else 1.0\n",
    "\n",
    "    # Conventional trapezoid parameters\n",
    "    cdef double a = 0.0 - k_range1\n",
    "    cdef double b = 0.0 - k_range0\n",
    "    cdef double c = 1.0 - k_range1\n",
    "    cdef double d = 1.0 - k_range0\n",
    "\n",
    "    # X conditional probability density\n",
    "    cdef double x_density = (2.0/(d+c-a-b))\n",
    "    \n",
    "    if x < b:\n",
    "        x_density = x_density*((x-a)/(b-a))\n",
    "        x_density = x_density if x_density>0 else 0.0\n",
    "    elif x > c:\n",
    "        x_density = x_density*((d-x)/(d-c))\n",
    "        x_density = x_density if x_density>0 else 0.0\n",
    "    \n",
    "    return y_density*x_density\n",
    "\n",
    "tol = 1e-06 # Increase for even faster results\n",
    "st = time.time()\n",
    "p = dblquad(f, a=-1, b=0, gfun=x_lower, hfun=lambda x: 0)[0]\n",
    "en = time.time()\n",
    "print(f\"Probability: {p*2}\")\n",
    "print(f\"Calculated in {en-st:.4f} seconds\")"
   ]
  },
  {
   "cell_type": "markdown",
   "metadata": {},
   "source": [
    "# Visualisation"
   ]
  },
  {
   "cell_type": "code",
   "execution_count": 6,
   "metadata": {},
   "outputs": [
    {
     "data": {
      "image/png": "[encoded data removed]",
      "text/plain": [
       "<Figure size 432x288 with 1 Axes>"
      ]
     },
     "metadata": {
      "needs_background": "light"
     },
     "output_type": "display_data"
    }
   ],
   "source": [
    "import matplotlib.pyplot as plt\n",
    "import numpy as np\n",
    "\n",
    "resolution=50\n",
    "dims = 3\n",
    "x1_ind, x2_ind, x3_ind = np.indices([resolution for i in range(dims)])\n",
    "\n",
    "x1_ind = np.ravel(x1_ind)\n",
    "x2_ind = np.ravel(x2_ind)\n",
    "x3_ind = np.ravel(x3_ind)\n",
    "\n",
    "truth_array = np.zeros(len(x1_ind))\n",
    "\n",
    "res_vals = np.linspace(0,1, resolution, endpoint=True)\n",
    "\n",
    "cube_lin = ((res_vals[x1_ind] > res_vals[x3_ind]) & (res_vals[x2_ind] < res_vals[x3_ind])) | ((res_vals[x1_ind] < res_vals[x3_ind]) & (res_vals[x2_ind] > res_vals[x3_ind]))\n",
    "\n",
    "cube =  cube_lin.reshape(resolution, resolution, resolution)\n",
    "\n",
    "colors = np.empty(cube.shape, dtype=object)\n",
    "colors[cube] = 'green'\n",
    "\n",
    "ax = plt.figure().add_subplot(projection='3d')\n",
    "ax.voxels(cube, facecolors=colors, edgecolor='green')\n",
    "\n",
    "ax.view_init(25, 15)\n",
    "\n",
    "plt.draw()\n",
    "plt.show()"
   ]
  }
 ],
 "metadata": {
  "kernelspec": {
   "display_name": "Python 3 (ipykernel)",
   "language": "python",
   "name": "python3"
  },
  "language_info": {
   "codemirror_mode": {
    "name": "ipython",
    "version": 3
   },
   "file_extension": ".py",
   "mimetype": "text/x-python",
   "name": "python",
   "nbconvert_exporter": "python",
   "pygments_lexer": "ipython3",
   "version": "3.9.12"
  }
 },
 "nbformat": 4,
 "nbformat_minor": 4
}
