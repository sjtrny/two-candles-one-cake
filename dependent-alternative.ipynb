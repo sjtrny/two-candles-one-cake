{
 "cells": [
  {
   "cell_type": "markdown",
   "metadata": {},
   "source": [
    "# Alternative Solution Using Dependent Variables\n",
    "\n",
    "## Problem Statement\n",
    "\n",
    "Let:\n",
    "- $C_1$, $C_2 \\sim U(0,1)$ be the candle positions\n",
    "- $K \\sim U(0,1)$ be the knife position\n",
    "\n",
    "Denote the probability of the knife landing between the two candles as\n",
    "\n",
    "$$P(C_{1,2} < K < C_{1,2}) = P(C_1 < K < C_2) + P(C_2 < K < C_1)$$.\n",
    "\n",
    "It is equally likely that the knife lands between the candles in both orientations, since $C_1$, $C_2$ and $K$ are $\\sim U(0,1)$,  i.e.\n",
    "\n",
    "$$P(C_1 < K < C_2) = P(C_2 < K < C_1).$$\n",
    "\n",
    "Therefore\n",
    "\n",
    "$$P(C_{1,2} < K < C_{1,2}) = 2 \\cdot P(C_1 < K < C_2).$$\n",
    "\n",
    "## Joint CDF\n",
    "\n",
    "We can further simplify\n",
    "$$\n",
    "\\begin{align*}\n",
    "P(C_1 < K < C_2)\n",
    "&= P(C_1 - K < 0\\ \\mathrm{and}\\ C_2 - K > 0)\\\\\n",
    "&= P(X < 0\\ \\mathrm{and}\\ Y < 0)\n",
    "\\end{align*}\n",
    "$$\n",
    "where $X = C_1 - K$ and $Y = K - C_2$.\n",
    "\n",
    "Therefore the solution to the problem is given by the joint cumulative distribution function\n",
    "\n",
    "$$P(X < 0\\ \\mathrm{and}\\ Y < 0) = \\int_{-1}^0 \\int_{\\alpha(y)}^{\\beta(y)} f_{X,Y}(x,y) \\, dx \\, dy.$$\n",
    "\n",
    "where $f_{X,Y}(x,y)$ is the joint density of $X$ and $Y$. The integration limits $\\alpha$, $\\beta$ of $X$ are functions of $Y$ due to the dependency of both variables on $K$.\n",
    "\n",
    "### Joint Density\n",
    "\n",
    "The joint density can be decomposed into\n",
    "\n",
    "$$\n",
    "\\begin{align*}\n",
    "f_{X,Y}(x,y) &= f_{Y\\mid X}(y\\mid x)f_X(x) \\\\\n",
    "&= f_{X\\mid Y}(x\\mid y)f_Y(y)\n",
    "\\end{align*}\n",
    "$$\n",
    "\n",
    "#### Marginals\n",
    "\n",
    "$X$ and $Y$ are both differences of standard uniform random variables. Therefore they both follow a Triangular distribution e.g.\n",
    "\n",
    "$$K - C_2 = Y \\sim \\text{Triangular}(-1, 0, 1).$$\n",
    "\n",
    "Therefore the marginals $f_X(x)$ and $f_Y(y)$ are PDFs of Triangular distributions.\n",
    "\n",
    "#### Conditional Probability\n",
    "\n",
    "The conditional probability distribution of $X_{Y = y}$ ($X$ given $Y=y$) can be established through the shared variable $K$. If we observe a specific value $Y=y$, and since $Y = K - C_2$  we can narrow the support of $K$ to\n",
    "\n",
    "$$K \\in [\\max(y, 0), \\min(1, 1+y)],$$\n",
    "\n",
    "therefore\n",
    "\n",
    "$$K \\sim U(\\max(y, 0), \\min(1, 1+y)).$$\n",
    "\n",
    "Information about $Y$ does not influence $C_1$ so $C_1$ still follows a standard uniform distribution. Therefore the conditional distribution $X_{Y = y}$ is the difference of two uniform variables with different supports and consequently is trapezoidal distributed.\n",
    "\n",
    "#### Trapezoidal Distribution Refresher\n",
    "\n",
    "Trapezoidal distributions have four parameters: $a$, $b$, $c$, $d$; that correspond to the lower bound, first bend, second bend and upper bound respectively.\n",
    "\n",
    "Let $F \\sim U(l,m)$ and $G \\sim U(n, o)$ and $H = F-G$ then\n",
    "\n",
    "$$H\\sim \\text{Trapezoidal}(l-o,l-n,m-o,m-n)$$\n",
    "\n",
    "Therefore for a known value of $Y$ the distribution of $X$ is\n",
    "\n",
    "$$X_{Y = y} \\sim \\text{Trapezoidal}(-\\min(1, 1+y), -\\max(y, 0), 1-\\min(1, 1+y), 1-\\max(y, 0))$$\n",
    "\n",
    "and the conditional probability density $f_{X\\mid Y}$ is the PDF of this distribution.\n",
    "\n",
    "## Solution\n",
    "\n",
    "Finally given the support of $X_{Y = y}$ the joint CDF is \n",
    "\n",
    "$$ P(X < 0\\ \\mathrm{and}\\ Y < 0) = \\int_{-1}^0 \\int_{a}^{\\min(d,0)} \\left(\\begin{cases} y + 1 & \\text{for}\\: y < 0 \\\\1 - y & \\text{otherwise} \\end{cases}\\right) \\left(\\begin{cases} \\frac{x + \\min\\left(1, y + 1\\right)}{- \\max\\left(0, y\\right) + \\min\\left(1, y + 1\\right)} & \\text{for}\\: x < - \\max\\left(0, y\\right) \\\\\\frac{- x - \\max\\left(0, y\\right) + 1}{- \\max\\left(0, y\\right) + \\min\\left(1, y + 1\\right)} & \\text{for}\\: x > 1 - \\min\\left(1, y + 1\\right) \\\\1 & \\text{otherwise} \\end{cases}\\right) \\, dx \\, dy$$\n",
    "\n",
    "Evaluating the integral yields\n",
    "\n",
    "$$P(C_1 < K < C_2)=\\frac{1}{6}$$\n",
    "\n",
    "therefore\n",
    "\n",
    "$$P(C_{1,2 } < K < C_{1,2}) = 2 \\cdot \\frac{1}{6} = \\frac{1}{3}$$"
   ]
  },
  {
   "cell_type": "markdown",
   "metadata": {},
   "source": [
    "# Sympy Verification"
   ]
  },
  {
   "cell_type": "code",
   "execution_count": 1,
   "metadata": {},
   "outputs": [],
   "source": [
    "from sympy import symbols, integrate, Piecewise, Max, Min, simplify, Integral\n",
    "\n",
    "y = symbols(\"y\")\n",
    "triangular = Piecewise(\n",
    "    (y + 1, y < 0),\n",
    "    (-y + 1, True)\n",
    ")\n",
    "\n",
    "x = symbols(\"x\")\n",
    "k0 = Max(y, 0)\n",
    "k1 = Min(1, 1+y)\n",
    "\n",
    "a = -k1\n",
    "b = -k0\n",
    "c = 1 - k1\n",
    "d = 1 - k0\n",
    "\n",
    "trapezoid = Piecewise(\n",
    "    ((x-a)/(b-a), x < b),\n",
    "    ((d-x)/(d-c), x > c),\n",
    "    (1, True)\n",
    ")"
   ]
  },
  {
   "cell_type": "code",
   "execution_count": 2,
   "metadata": {},
   "outputs": [
    {
     "data": {
      "text/latex": [
       "$\\displaystyle \\left(\\begin{cases} y + 1 & \\text{for}\\: y < 0 \\\\1 - y & \\text{otherwise} \\end{cases}\\right) \\left(\\begin{cases} \\frac{x + \\min\\left(1, y + 1\\right)}{- \\max\\left(0, y\\right) + \\min\\left(1, y + 1\\right)} & \\text{for}\\: x < - \\max\\left(0, y\\right) \\\\\\frac{- x - \\max\\left(0, y\\right) + 1}{- \\max\\left(0, y\\right) + \\min\\left(1, y + 1\\right)} & \\text{for}\\: x > 1 - \\min\\left(1, y + 1\\right) \\\\1 & \\text{otherwise} \\end{cases}\\right)$"
      ],
      "text/plain": [
       "Piecewise((y + 1, y < 0), (1 - y, True))*Piecewise(((x + Min(1, y + 1))/(-Max(0, y) + Min(1, y + 1)), x < -Max(0, y)), ((-x - Max(0, y) + 1)/(-Max(0, y) + Min(1, y + 1)), x > 1 - Min(1, y + 1)), (1, True))"
      ]
     },
     "execution_count": 2,
     "metadata": {},
     "output_type": "execute_result"
    }
   ],
   "source": [
    "triangular*trapezoid"
   ]
  },
  {
   "cell_type": "code",
   "execution_count": 3,
   "metadata": {},
   "outputs": [
    {
     "data": {
      "text/latex": [
       "$\\displaystyle \\frac{1}{3}$"
      ],
      "text/plain": [
       "1/3"
      ]
     },
     "execution_count": 3,
     "metadata": {},
     "output_type": "execute_result"
    }
   ],
   "source": [
    "2 * integrate(triangular*trapezoid, (x, a, Min(d, 0)), (y, -1, 0) )"
   ]
  },
  {
   "cell_type": "markdown",
   "metadata": {},
   "source": [
    "# Numeric Integration"
   ]
  },
  {
   "cell_type": "code",
   "execution_count": 4,
   "metadata": {
    "scrolled": true
   },
   "outputs": [
    {
     "name": "stdout",
     "output_type": "stream",
     "text": [
      "Probability: 0.3333333333333333\n"
     ]
    }
   ],
   "source": [
    "import numpy as np\n",
    "from scipy.integrate import dblquad\n",
    "from scipy.stats import trapezoid, triang\n",
    "import time\n",
    "\n",
    "# Used for tighter inner integral bounds\n",
    "def x_lower(y):\n",
    "    # Support of K\n",
    "    k_range = [np.maximum(y, 0), np.minimum(1, 1+y)]\n",
    "\n",
    "    # Support of C1\n",
    "    c1_range = [0, 1]\n",
    "\n",
    "    # Conventional trapezoid parameters\n",
    "    a = c1_range[0] - k_range[1]\n",
    "    \n",
    "    return a\n",
    "\n",
    "def x_upper(y):\n",
    "    # Support of K\n",
    "    k_range = [np.maximum(y, 0), np.minimum(1, 1+y)]\n",
    "\n",
    "    # Support of C1\n",
    "    c1_range = [0, 1]\n",
    "\n",
    "    # Conventional trapezoid parameters\n",
    "    d = c1_range[1] - k_range[0]\n",
    "    \n",
    "    return np.minimum(d, 0)\n",
    "\n",
    "def f(y, x):\n",
    "    # Y marginal\n",
    "    y_density = triang.pdf(y, loc=-1, scale=2, c=0.5)\n",
    "\n",
    "    # Support of K\n",
    "    k_range = [np.maximum(y, 0), np.minimum(1, 1+y)]\n",
    "\n",
    "    # Support of C1\n",
    "    c1_range = [0, 1]\n",
    "\n",
    "    # Conventional trapezoid parameters\n",
    "    a = c1_range[0] - k_range[1]\n",
    "    b = c1_range[0] - k_range[0]\n",
    "    c = c1_range[1] - k_range[1]\n",
    "    d = c1_range[1] - k_range[0]\n",
    "\n",
    "    # Scipy trapezoid parameters\n",
    "    loc = a\n",
    "    scale = d-a\n",
    "    c1 = (b-a) / scale\n",
    "    d1 = (c-a) / scale\n",
    "\n",
    "    # X conditional probability density\n",
    "    x_density = trapezoid.pdf(x,c=c1, d=d1,loc=loc, scale=scale)\n",
    "\n",
    "    return y_density*x_density\n",
    "\n",
    "p = dblquad(f, a=-1, b=0, gfun=x_lower, hfun=x_upper)[0]\n",
    "print(f\"Probability: {p*2}\")"
   ]
  },
  {
   "cell_type": "markdown",
   "metadata": {},
   "source": [
    "## Optimisation - Manual PDFs\n",
    "\n",
    "Using scipy's stats classes are quite slow, this version constructs PDF for the distributions manually."
   ]
  },
  {
   "cell_type": "code",
   "execution_count": 5,
   "metadata": {},
   "outputs": [
    {
     "name": "stdout",
     "output_type": "stream",
     "text": [
      "Probability: 0.3333333333333333\n",
      "Calculated in 0.0003 seconds\n"
     ]
    }
   ],
   "source": [
    "from scipy.integrate import dblquad\n",
    "import time\n",
    "from math import fabs\n",
    "s = time.time()\n",
    "\n",
    "def x_lower(y):\n",
    "    return 0 - (1+y if y<0 else 1)\n",
    "\n",
    "def x_upper(y):\n",
    "    d = 1 - (y if y>0 else 0)\n",
    "    return 0 if d>0 else d\n",
    "\n",
    "def f(y, x):\n",
    "    # Y marginal\n",
    "    y_density = -fabs(y) + 1\n",
    "\n",
    "    # Support of K\n",
    "    k_range0 = y if y>0 else 0\n",
    "    k_range1 = 1+y if y<0 else 1\n",
    "\n",
    "    # Conventional trapezoid parameters\n",
    "    a = -k_range1\n",
    "    b = -k_range0\n",
    "    c = 1 - k_range1\n",
    "    d = 1 - k_range0\n",
    "\n",
    "    # X conditional probability density\n",
    "    x_density = (2/(d+c-a-b))\n",
    "    \n",
    "    if x < b:\n",
    "        x_density = x_density*((x-a)/(b-a))\n",
    "        x_density = x_density if x_density>0 else 0\n",
    "    elif x > c:\n",
    "        x_density = x_density*((d-x)/(d-c))\n",
    "        x_density = x_density if x_density>0 else 0\n",
    "    \n",
    "    return y_density*x_density\n",
    "\n",
    "tol = 1e-06 # Increase for even faster results\n",
    "st = time.time()\n",
    "p = dblquad(f, a=-1, b=0, gfun=x_lower, hfun=x_upper)[0]\n",
    "en = time.time()\n",
    "print(f\"Probability: {p*2}\")\n",
    "print(f\"Calculated in {en-st:.4f} seconds\")"
   ]
  },
  {
   "cell_type": "markdown",
   "metadata": {},
   "source": [
    "## Cython Implementation\n",
    "\n",
    "For fun I tried to squeeze even more performance by writing a compiled implementation."
   ]
  },
  {
   "cell_type": "code",
   "execution_count": 7,
   "metadata": {},
   "outputs": [],
   "source": [
    "%load_ext cython"
   ]
  },
  {
   "cell_type": "code",
   "execution_count": 8,
   "metadata": {},
   "outputs": [
    {
     "name": "stdout",
     "output_type": "stream",
     "text": [
      "Content of stderr:\n",
      "ld: warning: duplicate -rpath '/opt/anaconda3/lib' ignoredProbability: 0.3333333333333333\n",
      "Calculated in 0.0012 seconds\n"
     ]
    }
   ],
   "source": [
    "%%cython\n",
    "from scipy.integrate import dblquad\n",
    "from libc.math cimport abs\n",
    "import cython\n",
    "import time\n",
    "import numpy as np\n",
    "\n",
    "def x_lower(y):\n",
    "    return 0 - (1+y if y<0 else 1)\n",
    "\n",
    "def x_upper(y):\n",
    "    d = 1 - (y if y>0 else 0)\n",
    "    return 0 if d>0 else d\n",
    "\n",
    "@cython.cdivision(True)\n",
    "def f(y: cython.double, x: cython.double):\n",
    "    # Y marginal\n",
    "    cdef double y_density = -abs(y) + 1\n",
    "\n",
    "    # Support of K\n",
    "    cdef double k_range0 = y if y>0 else 0.0\n",
    "    cdef double k_range1 = 1+y if y<0 else 1.0\n",
    "\n",
    "    # Conventional trapezoid parameters\n",
    "    cdef double a = 0.0 - k_range1\n",
    "    cdef double b = 0.0 - k_range0\n",
    "    cdef double c = 1.0 - k_range1\n",
    "    cdef double d = 1.0 - k_range0\n",
    "\n",
    "    # X conditional probability density\n",
    "    cdef double x_density = (2.0/(d+c-a-b))\n",
    "    \n",
    "    if x < b:\n",
    "        x_density = x_density*((x-a)/(b-a))\n",
    "        x_density = x_density if x_density>0 else 0.0\n",
    "    elif x > c:\n",
    "        x_density = x_density*((d-x)/(d-c))\n",
    "        x_density = x_density if x_density>0 else 0.0\n",
    "    \n",
    "    return y_density*x_density\n",
    "\n",
    "tol = 1e-06 # Increase for even faster results\n",
    "st = time.time()\n",
    "p = dblquad(f, a=-1, b=0, gfun=x_lower, hfun=x_upper)[0]\n",
    "en = time.time()\n",
    "print(f\"Probability: {p*2}\")\n",
    "print(f\"Calculated in {en-st:.4f} seconds\")"
   ]
  },
  {
   "cell_type": "code",
   "execution_count": null,
   "metadata": {},
   "outputs": [],
   "source": []
  }
 ],
 "metadata": {
  "kernelspec": {
   "display_name": "Python 3 (ipykernel)",
   "language": "python",
   "name": "python3"
  },
  "language_info": {
   "codemirror_mode": {
    "name": "ipython",
    "version": 3
   },
   "file_extension": ".py",
   "mimetype": "text/x-python",
   "name": "python",
   "nbconvert_exporter": "python",
   "pygments_lexer": "ipython3",
   "version": "3.12.2"
  }
 },
 "nbformat": 4,
 "nbformat_minor": 4
}
